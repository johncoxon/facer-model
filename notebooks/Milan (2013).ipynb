{
 "cells": [
  {
   "cell_type": "code",
   "execution_count": null,
   "id": "27788476-82d6-49b5-9cf6-5fc2ce03da06",
   "metadata": {
    "tags": []
   },
   "outputs": [],
   "source": [
    "import numpy as np\n",
    "from birkeland import Model, BetterModel\n",
    "from matplotlib import pyplot as plt\n",
    "from matplotlib.ticker import MaxNLocator"
   ]
  },
  {
   "cell_type": "markdown",
   "id": "48a08dc6-2c61-4d72-81fe-826affef4ed4",
   "metadata": {},
   "source": [
    "# Reproduce the plots from Milan (2013)\n",
    "The below code instantiates the two examples from Milan (2013) and attempts to reproduce the plots from Milan (2013)."
   ]
  },
  {
   "cell_type": "code",
   "execution_count": null,
   "id": "55a8da64-c0df-4aa9-9ff5-e72295e30498",
   "metadata": {
    "tags": []
   },
   "outputs": [],
   "source": [
    "example1 = Model(50, 0, 0.4)\n",
    "example2 = Model(30, 70, 0.7)"
   ]
  },
  {
   "cell_type": "markdown",
   "id": "79c144b4-c5bb-411e-be5e-b66e5ac195e7",
   "metadata": {},
   "source": [
    "## Reproduce Figure 2a–d"
   ]
  },
  {
   "cell_type": "code",
   "execution_count": null,
   "id": "5b693a92-39b8-484d-9166-21f666b9bec7",
   "metadata": {
    "tags": []
   },
   "outputs": [],
   "source": [
    "fig, ax = plt.subplots(2, 2, figsize=(8, 4), sharex=\"all\", sharey=\"row\")\n",
    "\n",
    "for cnt, example in enumerate((example1, example2)):\n",
    "    example.plot_r1_potential(ax[0, cnt])\n",
    "    example.plot_r1_and_r2_intensity(ax[1, cnt])\n",
    "    \n",
    "ax[1, 0].legend(loc=\"upper right\")\n",
    "ax[0, 0].set(title=\"Example 1\")\n",
    "ax[0, 1].set(title=\"Example 2\")\n",
    "\n",
    "plt.show()"
   ]
  },
  {
   "cell_type": "markdown",
   "id": "db2bca16-1cfb-45e0-b6f4-1f166302f35f",
   "metadata": {
    "tags": []
   },
   "source": [
    "## Reproduce the contours in Figure 2e-j\n",
    "\n",
    "The contours are at intervals of 10 kV from 5 kV upward; the 6 kV interval stated in the caption to Figure 2 is a typographical error."
   ]
  },
  {
   "cell_type": "code",
   "execution_count": null,
   "id": "c2e290f4-8fee-4214-9769-02d037f3a247",
   "metadata": {
    "tags": []
   },
   "outputs": [],
   "source": [
    "fig, ax = plt.subplots(1, 2, figsize=(8, 4), subplot_kw={\"polar\": True})\n",
    "mesh = np.empty_like(ax, dtype=object)\n",
    "\n",
    "for cnt, example in enumerate([example1, example2]):\n",
    "    mesh[cnt] = example.map_electric_potential(ax[cnt])\n",
    "    ax[cnt].set_title(f\"Example {cnt + 1}\")\n",
    "\n",
    "cax = example.add_cax(fig, ax)\n",
    "cbar = plt.colorbar(mesh[0], cax=cax)\n",
    "cbar.ax.yaxis.set_major_locator(MaxNLocator(6))\n",
    "cbar.set_label(r\"$\\mathregular{\\Phi}$ (kV)\")"
   ]
  },
  {
   "cell_type": "markdown",
   "id": "fa87e2c6-715a-4361-90d3-a5a4be6c82c1",
   "metadata": {},
   "source": [
    "## Reproduce the maps in Figures 2e-h"
   ]
  },
  {
   "cell_type": "code",
   "execution_count": null,
   "id": "a755739c-1283-4a29-851e-6afb0b01587c",
   "metadata": {
    "tags": []
   },
   "outputs": [],
   "source": [
    "fig, ax = plt.subplots(2, 2, figsize=(8, 8), subplot_kw={\"polar\": True})\n",
    "mesh = np.empty_like(ax, dtype=object)\n",
    "\n",
    "for col, example in enumerate([example1, example2]):\n",
    "    for row, component in enumerate([\"labda\", \"theta\"]):\n",
    "        mesh[row, col] = example.map_electric_field(ax[row, col], component)\n",
    "    ax[0, col].set_title(f\"Example {col + 1}\")\n",
    "        \n",
    "cax = example.add_cax(fig, ax)\n",
    "cbar = plt.colorbar(mesh[0, 0], cax=cax)\n",
    "cbar.ax.yaxis.set_major_locator(MaxNLocator(6))\n",
    "cbar.set_label(r\"E (mV m$^{-1}$)\")"
   ]
  },
  {
   "cell_type": "markdown",
   "id": "68a950c7-d942-45db-b57b-c9480ceed450",
   "metadata": {},
   "source": [
    "## Reproduce Figure 2i–j"
   ]
  },
  {
   "cell_type": "code",
   "execution_count": null,
   "id": "99271095-2ca1-41e9-b20a-5038ea606f84",
   "metadata": {
    "tags": []
   },
   "outputs": [],
   "source": [
    "fig, ax = plt.subplots(1, 2, figsize=(8, 4), subplot_kw={\"polar\": True})\n",
    "mesh = np.empty_like(ax, dtype=object)\n",
    "\n",
    "for cnt, example in enumerate([example1, example2]):\n",
    "    mesh[cnt] = example.map_current(ax[cnt])\n",
    "    ax[cnt].set_title(f\"Example {cnt + 1}\")\n",
    "\n",
    "cax = example.add_cax(fig, ax)\n",
    "cbar = plt.colorbar(mesh[0], cax=cax)\n",
    "cbar.ax.yaxis.set_major_locator(MaxNLocator(6))\n",
    "cbar.set_label(r\"$\\mathregular{J_\\parallel/\\Sigma_P}$ (mA mho$^{-1}$ m$^{-1}$)\")"
   ]
  },
  {
   "cell_type": "markdown",
   "id": "57119424-3209-43be-9b8f-d42d6abe7942",
   "metadata": {},
   "source": [
    "## Plot the ionospheric flow vector"
   ]
  },
  {
   "cell_type": "code",
   "execution_count": null,
   "id": "13f5dd5b-8af1-46de-a23d-836bf05a6ddc",
   "metadata": {
    "tags": []
   },
   "outputs": [],
   "source": [
    "fig, ax = plt.subplots(2, 2, figsize=(8, 8), subplot_kw={\"polar\": True})\n",
    "mesh = np.empty_like(ax, dtype=object)\n",
    "\n",
    "for col, example in enumerate([example1, example2]):\n",
    "    for row, component in enumerate([\"labda\", \"theta\"]):\n",
    "        mesh[row, col] = example.map_flow_vector(ax[row, col], component)\n",
    "    ax[0, col].set_title(f\"Example {col + 1}\")\n",
    "    \n",
    "cax = example.add_cax(fig, ax)\n",
    "cbar = plt.colorbar(mesh[0, 0], cax=cax)\n",
    "cbar.ax.yaxis.set_major_locator(MaxNLocator(6))\n",
    "cbar.set_label(r\"Flow vector (ms$^{-1}$)\")"
   ]
  },
  {
   "cell_type": "markdown",
   "id": "2e798879-a9f6-48e7-9137-5e30e967ef6a",
   "metadata": {},
   "source": [
    "# Implement changes"
   ]
  },
  {
   "cell_type": "code",
   "execution_count": null,
   "id": "171abe6f-69bb-4d91-9686-2f2f156462e8",
   "metadata": {
    "tags": []
   },
   "outputs": [],
   "source": [
    "import datetime as dt\n",
    "model = BetterModel(8.09364 * 1.7, 8.09364 * 1.7, 78.8214, dt.datetime(2010, 1, 1, 17), \"south\",\n",
    "                    f_pc=0.3, r1_colat=15, delta_colat=7)"
   ]
  },
  {
   "cell_type": "code",
   "execution_count": null,
   "id": "8ca5f021-0d88-4884-97b2-7522232f13b6",
   "metadata": {
    "tags": []
   },
   "outputs": [],
   "source": [
    "from scipy.io import readsav\n",
    "\n",
    "sav = readsav(f\"../3_0_17.sav\")"
   ]
  },
  {
   "cell_type": "code",
   "execution_count": null,
   "id": "9283d5c7-dc39-41ae-86df-b737820d667c",
   "metadata": {
    "tags": []
   },
   "outputs": [],
   "source": [
    "from johncoxon.plot import add_cax, configure_polar_plot, save_figure\n",
    "\n",
    "fig, ax = plt.subplots(5, 2, figsize=(8, 20), subplot_kw={\"polar\": True})\n",
    "mesh = np.empty_like(ax, dtype=object)\n",
    "\n",
    "ax[0, 0].set_title(\"My model\")\n",
    "ax[0, 1].set_title(\"Steve's model\")\n",
    "\n",
    "model_variables = [model.sza, model.sigma_h, model.sigma_p, model.div_jh, model.div_jp]\n",
    "idl_variables = [\"sza\", \"sigma_h\", \"sigma_p\", \"div_jh\", \"div_jp\"]\n",
    "\n",
    "for row, variable in enumerate(idl_variables):\n",
    "    if variable == \"sza\":\n",
    "        plot = np.radians(sav[\"sza\"])\n",
    "        colourmap = \"magma_r\"\n",
    "    else:\n",
    "        plot = sav[variable]\n",
    "        colourmap = \"viridis\"\n",
    "        \n",
    "    mesh[row, 0] = ax[row, 0].pcolormesh(model.theta, model.colat, model_variables[row],\n",
    "                                         shading=\"nearest\", cmap=colourmap)\n",
    "    mesh[row, 1] = ax[row, 1].pcolormesh(np.radians(np.arange(0, 360, 2)), np.arange(40), \n",
    "                                         plot.T, shading=\"nearest\", cmap=colourmap)\n",
    "    ax[row, 0].set_ylabel(variable, labelpad=20)\n",
    "\n",
    "    cax = add_cax(fig, ax[row, :])\n",
    "    clim0 = mesh[row, 0].get_clim()\n",
    "    clim1 = mesh[row, 1].get_clim()\n",
    "    for i in [0, 1]:\n",
    "        mesh[row, i].set_clim(np.min((clim0, clim1)), np.max((clim0, clim1)))\n",
    "    plt.colorbar(mesh[row, 0], cax=cax)\n",
    "\n",
    "for a in ax.flatten():\n",
    "    configure_polar_plot(a, 30)"
   ]
  },
  {
   "cell_type": "code",
   "execution_count": null,
   "id": "bf3f0496-61ed-4164-a63e-777a4f3c9083",
   "metadata": {},
   "outputs": [],
   "source": []
  }
 ],
 "metadata": {
  "kernelspec": {
   "display_name": "Python 3 (ipykernel)",
   "language": "python",
   "name": "python3"
  },
  "language_info": {
   "codemirror_mode": {
    "name": "ipython",
    "version": 3
   },
   "file_extension": ".py",
   "mimetype": "text/x-python",
   "name": "python",
   "nbconvert_exporter": "python",
   "pygments_lexer": "ipython3",
   "version": "3.10.9"
  }
 },
 "nbformat": 4,
 "nbformat_minor": 5
}
